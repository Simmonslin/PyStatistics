{
 "cells": [
  {
   "cell_type": "markdown",
   "metadata": {},
   "source": [
    "#### 作品三、 機率分配的樣貌\n",
    "\n",
    "姓名：王大明 <br>\n",
    "學號：12345678\n",
    "\n",
    "#### 目標：\n",
    "- 繪製曾學過的分配函數，含連續與離散型。\n",
    "- 連續型分配包括常態、卡方、T、Beta、F 等五種。利用改變分配函數的參數，觀察其分配函數的「長相」；畫出所有可能的「形狀」並說明（或標示）與參數間的關係。\n",
    "- 離散型則選擇 xxx 分配。\n",
    "- 連續型分配函數繪圖以 PDF 為主。離散型分配含 PMF（stem 圖） 及 CDF （stairs 圖）。\n",
    "- 其他：除上述的基本要求外，附加的內容。\n",
    "<hr>"
   ]
  },
  {
   "cell_type": "markdown",
   "metadata": {},
   "source": [
    "#### 1. 常態分配的 PDF 函數\n",
    "\n",
    "工作敘述：描述做了甚麼或有甚麼值得一提的。\n",
    "- xxx\n",
    "- xxxx\n",
    "- xxxxx\n"
   ]
  },
  {
   "cell_type": "code",
   "execution_count": null,
   "metadata": {},
   "outputs": [],
   "source": [
    "#  程式與結果"
   ]
  },
  {
   "cell_type": "markdown",
   "metadata": {},
   "source": [
    "#### 討論：描述上述程式與執行結果，有甚麼值得說明或強調的。\n",
    "- xx\n",
    "- xxx\n",
    "- xxxx\n",
    "<hr>"
   ]
  },
  {
   "cell_type": "markdown",
   "metadata": {},
   "source": [
    "#### 2. ......"
   ]
  }
 ],
 "metadata": {
  "kernelspec": {
   "display_name": "Python 3.9.13 64-bit (microsoft store)",
   "language": "python",
   "name": "python3"
  },
  "language_info": {
   "name": "python",
   "version": "3.9.13"
  },
  "orig_nbformat": 4,
  "vscode": {
   "interpreter": {
    "hash": "497338f01161d141240caa60efca5087225791fadc9b7c964beb65d863e046f0"
   }
  }
 },
 "nbformat": 4,
 "nbformat_minor": 2
}
