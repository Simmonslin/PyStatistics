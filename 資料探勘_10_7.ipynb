{
  "nbformat": 4,
  "nbformat_minor": 0,
  "metadata": {
    "colab": {
      "provenance": [],
      "authorship_tag": "ABX9TyPZ3nEZete0iwL7DrZZROXL",
      "include_colab_link": true
    },
    "kernelspec": {
      "name": "python3",
      "display_name": "Python 3"
    },
    "language_info": {
      "name": "python"
    }
  },
  "cells": [
    {
      "cell_type": "markdown",
      "metadata": {
        "id": "view-in-github",
        "colab_type": "text"
      },
      "source": [
        "<a href=\"https://colab.research.google.com/github/Simmonslin/PyStatistics/blob/master/%E8%B3%87%E6%96%99%E6%8E%A2%E5%8B%98_10_7.ipynb\" target=\"_parent\"><img src=\"https://colab.research.google.com/assets/colab-badge.svg\" alt=\"Open In Colab\"/></a>"
      ]
    },
    {
      "cell_type": "code",
      "execution_count": null,
      "metadata": {
        "id": "zyJve0ImxpMN"
      },
      "outputs": [],
      "source": []
    },
    {
      "cell_type": "markdown",
      "source": [
        "# 1.Data preprocessing is an important issue for data mining. What are the tasks in  data preprocessing?\n",
        "\n"
      ],
      "metadata": {
        "id": "tj-BwAdZxxZz"
      }
    },
    {
      "cell_type": "markdown",
      "source": [
        "## Answer : 資料預處理是資料探勘的首要步驟，用意在於確保數據的品質以及一致性，並清除資料中的不確定元素以及雜質，讓數據更適合用於後續的分析以及訓練。\n",
        "\n",
        "<hr>\n",
        "\n",
        "### 資料預處理包含下列步驟:\n",
        "\n",
        "### 1. 資料清理：處理缺失值、重複數據和異常值，確保數據的完整性和準確性\n",
        "\n",
        "### 2. 資料整合：將來自不同來源的數據合併，消除不一致性\n",
        "\n",
        "### 3. 資料轉換：將數據轉換為適合分析的格式，例如標準化、縮放和特徵提取\n",
        "\n",
        "### 4. 資料縮減: 透過微分方式將數據進行降維，提升訓練及模型預測的效率\n"
      ],
      "metadata": {
        "id": "PGJF7oriyIW3"
      }
    },
    {
      "cell_type": "markdown",
      "source": [
        "## 2. Please use “Equal Width” and “Equal Depth” Binning Method to smooth the  Dataset {17,42,3,29,12,21,6,29,22} into 3 boxes. Then, please use “Means”,” Median”, and “Boundaries” methods to eliminate the noisy data in final results,  respectively.\n"
      ],
      "metadata": {
        "id": "g35vR8pGzhpS"
      }
    },
    {
      "cell_type": "markdown",
      "source": [
        "#1. Equal Width 方法"
      ],
      "metadata": {
        "id": "1fz3uJJY2TBy"
      }
    },
    {
      "cell_type": "code",
      "source": [
        "import pandas as pd\n",
        "import numpy as np\n",
        "import seaborn as sns\n",
        "import matplotlib.pyplot as plt\n",
        "\n",
        "\n",
        "# 將Data由小到大排序\n",
        "data=np.array([17,42,3,29,12,21,6,29,22])\n",
        "data=np.sort(data)\n",
        "\n",
        "# Equal width method\n",
        "min_data=data.min()\n",
        "max_data=data.max()\n",
        "interval_num=(max_data-min_data)/len(data)\n",
        "\n",
        "interval=np.zeros(len(data)+1)\n",
        "\n",
        "# 設定每個區間的臨界值\n",
        "for i in range(len(data)):\n",
        "  if min_data+i*interval_num<=max_data:\n",
        "    interval[i]=min_data+i*interval_num\n",
        "\n",
        "interval[len(data)]=max_data\n",
        "print(interval)\n",
        "\n",
        "\n",
        "# 設function 進行Data的分類\n",
        "# setdiffid = 刪除為0的array\n",
        "\n",
        "def equal_depth(number):\n",
        "  box=np.zeros(len(data))\n",
        "  for i in data :\n",
        "    if i>=interval[number-1] and i<=interval[number]:\n",
        "      box=np.append(box,i)\n",
        "      box=np.setdiff1d(box,0)\n",
        "  return box\n",
        "\n",
        "\n",
        "# 將function帶入\n",
        "ans=[equal_depth(i+1) for i in range(len(data))]\n",
        "\n",
        "# any() = 全部為0時顯示False ，否則為True，並排除值為0的Array\n",
        "ans=[array for array in ans if any(array)]\n",
        "del ans[4]\n",
        "\n",
        "\n",
        "print(\"分類答案:\",ans)\n",
        "sns.stripplot(ans)\n",
        "plt.xlabel(\"Group\")\n",
        "plt.ylabel(\"Data\")\n",
        "\n",
        "\n",
        "\n"
      ],
      "metadata": {
        "id": "hnb1-TtOzoCe",
        "colab": {
          "base_uri": "https://localhost:8080/",
          "height": 518
        },
        "outputId": "bb8025e9-eb60-4b2e-c258-632391448b66"
      },
      "execution_count": null,
      "outputs": [
        {
          "output_type": "stream",
          "name": "stdout",
          "text": [
            "[ 3.          7.33333333 11.66666667 16.         20.33333333 24.66666667\n",
            " 29.         33.33333333 37.66666667 42.        ]\n",
            "分類答案: [array([3., 6.]), array([12.]), array([17.]), array([21., 22.]), array([29.]), array([42.])]\n"
          ]
        },
        {
          "output_type": "execute_result",
          "data": {
            "text/plain": [
              "Text(0, 0.5, 'Data')"
            ]
          },
          "metadata": {},
          "execution_count": 108
        },
        {
          "output_type": "display_data",
          "data": {
            "text/plain": [
              "<Figure size 640x480 with 1 Axes>"
            ],
            "image/png": "[encoded data removed]"
          },
          "metadata": {}
        }
      ]
    },
    {
      "cell_type": "code",
      "source": [
        "import pandas as pd\n",
        "import numpy as np\n",
        "import seaborn as sns\n",
        "import matplotlib.pyplot as plt\n",
        "\n",
        "data=np.array([17,42,3,29,12,21,6,29,22])\n",
        "data=np.sort(data)\n",
        "\n",
        "def equal_width(number,number_2):\n",
        "  box=data[number-1:number_2]\n",
        "  return box\n",
        "\n",
        "ans_width=[equal_width(3*i-2,3*i) for i in range(1,4)]\n",
        "\n",
        "print(\"分類答案:\",ans_width)\n",
        "sns.stripplot(ans_width)\n",
        "plt.xlabel(\"Group\")\n",
        "plt.ylabel(\"Data\")\n",
        "\n"
      ],
      "metadata": {
        "colab": {
          "base_uri": "https://localhost:8080/",
          "height": 484
        },
        "id": "ODf3WX793G0E",
        "outputId": "e55e235f-e352-4313-efbf-757f41213951"
      },
      "execution_count": null,
      "outputs": [
        {
          "output_type": "stream",
          "name": "stdout",
          "text": [
            "分類答案: [array([ 3,  6, 12]), array([17, 21, 22]), array([29, 29, 42])]\n"
          ]
        },
        {
          "output_type": "execute_result",
          "data": {
            "text/plain": [
              "Text(0, 0.5, 'Data')"
            ]
          },
          "metadata": {},
          "execution_count": 115
        },
        {
          "output_type": "display_data",
          "data": {
            "text/plain": [
              "<Figure size 640x480 with 1 Axes>"
            ],
            "image/png": "[encoded data removed]"
          },
          "metadata": {}
        }
      ]
    },
    {
      "cell_type": "markdown",
      "source": [
        "# 作業2 : 5 Scikit learn 2 資料預處理練習"
      ],
      "metadata": {
        "id": "OPVCxTHHfCJU"
      }
    },
    {
      "cell_type": "code",
      "source": [
        "import pandas as pd\n",
        "# 處理類別型資料,將類別屬性編碼\n",
        "from sklearn.preprocessing import LabelEncoder\n",
        "import seaborn as sns\n",
        "import matplotlib.pyplot as plt\n",
        "\n",
        "salmon=pd.read_csv(\"/SalmonandSeaTroutNets1952-2022.csv\")\n",
        "salmon.isnull().sum()\n",
        "salmon.dropna(inplace=True)\n",
        "salmon.isnull().sum()\n",
        "\n",
        "le=LabelEncoder()\n",
        "# 以District為例\n",
        "\n",
        "salmon[\"District\"]=le.fit_transform(salmon[\"District\"])\n",
        "\n",
        "# 計算個別District總數\n",
        "salmon[\"District\"].unique()\n",
        "\n",
        "\n",
        "# 計算相關係數並做成熱力圖，[[]] ==> 多columns取樣\n",
        "salmon_corr=pd.DataFrame(salmon[[\"Wild MSW number\",\"Wild MSW weight (kg)\",\"Wild 1SW number\"]])\n",
        "salmon_corrMatrix=salmon_corr.corr()\n",
        "sns.heatmap(salmon_corrMatrix,annot=True)\n",
        "plt.show()\n",
        "\n",
        "\n",
        "\n",
        "\n",
        "\n",
        "\n",
        "\n"
      ],
      "metadata": {
        "colab": {
          "base_uri": "https://localhost:8080/",
          "height": 574
        },
        "id": "hYZTsfgeZn1P",
        "outputId": "72cebb48-1abf-461e-e868-6edccdaba42a"
      },
      "execution_count": 23,
      "outputs": [
        {
          "output_type": "display_data",
          "data": {
            "text/plain": [
              "<Figure size 640x480 with 2 Axes>"
            ],
            "image/png": "[encoded data removed]"
          },
          "metadata": {}
        }
      ]
    },
    {
      "cell_type": "code",
      "source": [
        "from google.colab import files\n",
        "f = files.upload()\n",
        "\n",
        "# Convert ipynb to html\n",
        "import subprocess\n",
        "file0 = list(f.keys())[0]\n",
        "_ = subprocess.run([\"pip\", \"install\", \"nbconvert\"])\n",
        "_ = subprocess.run([\"jupyter\", \"nbconvert\", file0, \"--to\", \"html\"])\n",
        "\n",
        "# download the html\n",
        "files.download(file0[:-5]+\"html\")"
      ],
      "metadata": {
        "colab": {
          "base_uri": "https://localhost:8080/",
          "height": 75
        },
        "id": "-zdb7joy6ji_",
        "outputId": "05f79bd7-d479-46fd-b086-3124056a7ca5"
      },
      "execution_count": 24,
      "outputs": [
        {
          "output_type": "display_data",
          "data": {
            "text/plain": [
              "<IPython.core.display.HTML object>"
            ],
            "text/html": [
              "\n",
              "     <input type=\"file\" id=\"files-3cc4b2da-d76d-43ae-a524-33fce5ee365a\" name=\"files[]\" multiple disabled\n",
              "        style=\"border:none\" />\n",
              "     <output id=\"result-3cc4b2da-d76d-43ae-a524-33fce5ee365a\">\n",
              "      Upload widget is only available when the cell has been executed in the\n",
              "      current browser session. Please rerun this cell to enable.\n",
              "      </output>\n",
              "      <script>// Copyright 2017 Google LLC\n",
              "//\n",
              "// Licensed under the Apache License, Version 2.0 (the \"License\");\n",
              "// you may not use this file except in compliance with the License.\n",
              "// You may obtain a copy of the License at\n",
              "//\n",
              "//      http://www.apache.org/licenses/LICENSE-2.0\n",
              "//\n",
              "// Unless required by applicable law or agreed to in writing, software\n",
              "// distributed under the License is distributed on an \"AS IS\" BASIS,\n",
              "// WITHOUT WARRANTIES OR CONDITIONS OF ANY KIND, either express or implied.\n",
              "// See the License for the specific language governing permissions and\n",
              "// limitations under the License.\n",
              "\n",
              "/**\n",
              " * @fileoverview Helpers for google.colab Python module.\n",
              " */\n",
              "(function(scope) {\n",
              "function span(text, styleAttributes = {}) {\n",
              "  const element = document.createElement('span');\n",
              "  element.textContent = text;\n",
              "  for (const key of Object.keys(styleAttributes)) {\n",
              "    element.style[key] = styleAttributes[key];\n",
              "  }\n",
              "  return element;\n",
              "}\n",
              "\n",
              "// Max number of bytes which will be uploaded at a time.\n",
              "const MAX_PAYLOAD_SIZE = 100 * 1024;\n",
              "\n",
              "function _uploadFiles(inputId, outputId) {\n",
              "  const steps = uploadFilesStep(inputId, outputId);\n",
              "  const outputElement = document.getElementById(outputId);\n",
              "  // Cache steps on the outputElement to make it available for the next call\n",
              "  // to uploadFilesContinue from Python.\n",
              "  outputElement.steps = steps;\n",
              "\n",
              "  return _uploadFilesContinue(outputId);\n",
              "}\n",
              "\n",
              "// This is roughly an async generator (not supported in the browser yet),\n",
              "// where there are multiple asynchronous steps and the Python side is going\n",
              "// to poll for completion of each step.\n",
              "// This uses a Promise to block the python side on completion of each step,\n",
              "// then passes the result of the previous step as the input to the next step.\n",
              "function _uploadFilesContinue(outputId) {\n",
              "  const outputElement = document.getElementById(outputId);\n",
              "  const steps = outputElement.steps;\n",
              "\n",
              "  const next = steps.next(outputElement.lastPromiseValue);\n",
              "  return Promise.resolve(next.value.promise).then((value) => {\n",
              "    // Cache the last promise value to make it available to the next\n",
              "    // step of the generator.\n",
              "    outputElement.lastPromiseValue = value;\n",
              "    return next.value.response;\n",
              "  });\n",
              "}\n",
              "\n",
              "/**\n",
              " * Generator function which is called between each async step of the upload\n",
              " * process.\n",
              " * @param {string} inputId Element ID of the input file picker element.\n",
              " * @param {string} outputId Element ID of the output display.\n",
              " * @return {!Iterable<!Object>} Iterable of next steps.\n",
              " */\n",
              "function* uploadFilesStep(inputId, outputId) {\n",
              "  const inputElement = document.getElementById(inputId);\n",
              "  inputElement.disabled = false;\n",
              "\n",
              "  const outputElement = document.getElementById(outputId);\n",
              "  outputElement.innerHTML = '';\n",
              "\n",
              "  const pickedPromise = new Promise((resolve) => {\n",
              "    inputElement.addEventListener('change', (e) => {\n",
              "      resolve(e.target.files);\n",
              "    });\n",
              "  });\n",
              "\n",
              "  const cancel = document.createElement('button');\n",
              "  inputElement.parentElement.appendChild(cancel);\n",
              "  cancel.textContent = 'Cancel upload';\n",
              "  const cancelPromise = new Promise((resolve) => {\n",
              "    cancel.onclick = () => {\n",
              "      resolve(null);\n",
              "    };\n",
              "  });\n",
              "\n",
              "  // Wait for the user to pick the files.\n",
              "  const files = yield {\n",
              "    promise: Promise.race([pickedPromise, cancelPromise]),\n",
              "    response: {\n",
              "      action: 'starting',\n",
              "    }\n",
              "  };\n",
              "\n",
              "  cancel.remove();\n",
              "\n",
              "  // Disable the input element since further picks are not allowed.\n",
              "  inputElement.disabled = true;\n",
              "\n",
              "  if (!files) {\n",
              "    return {\n",
              "      response: {\n",
              "        action: 'complete',\n",
              "      }\n",
              "    };\n",
              "  }\n",
              "\n",
              "  for (const file of files) {\n",
              "    const li = document.createElement('li');\n",
              "    li.append(span(file.name, {fontWeight: 'bold'}));\n",
              "    li.append(span(\n",
              "        `(${file.type || 'n/a'}) - ${file.size} bytes, ` +\n",
              "        `last modified: ${\n",
              "            file.lastModifiedDate ? file.lastModifiedDate.toLocaleDateString() :\n",
              "                                    'n/a'} - `));\n",
              "    const percent = span('0% done');\n",
              "    li.appendChild(percent);\n",
              "\n",
              "    outputElement.appendChild(li);\n",
              "\n",
              "    const fileDataPromise = new Promise((resolve) => {\n",
              "      const reader = new FileReader();\n",
              "      reader.onload = (e) => {\n",
              "        resolve(e.target.result);\n",
              "      };\n",
              "      reader.readAsArrayBuffer(file);\n",
              "    });\n",
              "    // Wait for the data to be ready.\n",
              "    let fileData = yield {\n",
              "      promise: fileDataPromise,\n",
              "      response: {\n",
              "        action: 'continue',\n",
              "      }\n",
              "    };\n",
              "\n",
              "    // Use a chunked sending to avoid message size limits. See b/62115660.\n",
              "    let position = 0;\n",
              "    do {\n",
              "      const length = Math.min(fileData.byteLength - position, MAX_PAYLOAD_SIZE);\n",
              "      const chunk = new Uint8Array(fileData, position, length);\n",
              "      position += length;\n",
              "\n",
              "      const base64 = btoa(String.fromCharCode.apply(null, chunk));\n",
              "      yield {\n",
              "        response: {\n",
              "          action: 'append',\n",
              "          file: file.name,\n",
              "          data: base64,\n",
              "        },\n",
              "      };\n",
              "\n",
              "      let percentDone = fileData.byteLength === 0 ?\n",
              "          100 :\n",
              "          Math.round((position / fileData.byteLength) * 100);\n",
              "      percent.textContent = `${percentDone}% done`;\n",
              "\n",
              "    } while (position < fileData.byteLength);\n",
              "  }\n",
              "\n",
              "  // All done.\n",
              "  yield {\n",
              "    response: {\n",
              "      action: 'complete',\n",
              "    }\n",
              "  };\n",
              "}\n",
              "\n",
              "scope.google = scope.google || {};\n",
              "scope.google.colab = scope.google.colab || {};\n",
              "scope.google.colab._files = {\n",
              "  _uploadFiles,\n",
              "  _uploadFilesContinue,\n",
              "};\n",
              "})(self);\n",
              "</script> "
            ]
          },
          "metadata": {}
        },
        {
          "output_type": "stream",
          "name": "stdout",
          "text": [
            "Saving 資料探勘_10_7 (1).ipynb to 資料探勘_10_7 (1).ipynb\n"
          ]
        },
        {
          "output_type": "display_data",
          "data": {
            "text/plain": [
              "<IPython.core.display.Javascript object>"
            ],
            "application/javascript": [
              "\n",
              "    async function download(id, filename, size) {\n",
              "      if (!google.colab.kernel.accessAllowed) {\n",
              "        return;\n",
              "      }\n",
              "      const div = document.createElement('div');\n",
              "      const label = document.createElement('label');\n",
              "      label.textContent = `Downloading \"${filename}\": `;\n",
              "      div.appendChild(label);\n",
              "      const progress = document.createElement('progress');\n",
              "      progress.max = size;\n",
              "      div.appendChild(progress);\n",
              "      document.body.appendChild(div);\n",
              "\n",
              "      const buffers = [];\n",
              "      let downloaded = 0;\n",
              "\n",
              "      const channel = await google.colab.kernel.comms.open(id);\n",
              "      // Send a message to notify the kernel that we're ready.\n",
              "      channel.send({})\n",
              "\n",
              "      for await (const message of channel.messages) {\n",
              "        // Send a message to notify the kernel that we're ready.\n",
              "        channel.send({})\n",
              "        if (message.buffers) {\n",
              "          for (const buffer of message.buffers) {\n",
              "            buffers.push(buffer);\n",
              "            downloaded += buffer.byteLength;\n",
              "            progress.value = downloaded;\n",
              "          }\n",
              "        }\n",
              "      }\n",
              "      const blob = new Blob(buffers, {type: 'application/binary'});\n",
              "      const a = document.createElement('a');\n",
              "      a.href = window.URL.createObjectURL(blob);\n",
              "      a.download = filename;\n",
              "      div.appendChild(a);\n",
              "      a.click();\n",
              "      div.remove();\n",
              "    }\n",
              "  "
            ]
          },
          "metadata": {}
        },
        {
          "output_type": "display_data",
          "data": {
            "text/plain": [
              "<IPython.core.display.Javascript object>"
            ],
            "application/javascript": [
              "download(\"download_94c805d6-3720-430e-8794-37fab2f1b702\", \"\\u8cc7\\u6599\\u63a2\\u52d8_10_7 (1).html\", 681003)"
            ]
          },
          "metadata": {}
        }
      ]
    }
  ]
}