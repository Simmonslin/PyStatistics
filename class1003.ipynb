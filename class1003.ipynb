{
 "cells": [
  {
   "cell_type": "markdown",
   "metadata": {},
   "source": [
    "- numpy.cbrt() 用來開立方根\n",
    "\n",
    "- px.axis('square')"
   ]
  },
  {
   "cell_type": "code",
   "execution_count": 2,
   "metadata": {},
   "outputs": [
    {
     "name": "stdout",
     "output_type": "stream",
     "text": [
      "-3.0\n"
     ]
    }
   ],
   "source": [
    "import numpy as np \n",
    "\n",
    "print(np.cbrt(-27))"
   ]
  },
  {
   "cell_type": "markdown",
   "metadata": {},
   "source": [
    "### 加分題 1. 發散級數\n",
    "\n",
    "- 在發散的情況下，面積是無限的 ( 數列 )\n",
    "\n",
    "- 若正常情況下，x值太大造成畫圖困難 ( e.g : x有1000萬個點，matplotlib模組速度將變很慢)\n",
    "\n",
    "\n"
   ]
  },
  {
   "cell_type": "code",
   "execution_count": 8,
   "metadata": {},
   "outputs": [
    {
     "data": {
      "image/png": "[encoded data removed]",
      "text/plain": [
       "<Figure size 640x480 with 1 Axes>"
      ]
     },
     "metadata": {},
     "output_type": "display_data"
    }
   ],
   "source": [
    "import matplotlib.pyplot as plt\n",
    "import numpy as np \n",
    "\n",
    "x=np.linspace(-10,10,100)\n",
    "f= lambda x : 2*x+1 \n",
    "\n",
    "ax=plt.gca()\n",
    "ax.plot(x,f(x))\n",
    "\n",
    "# 消除右邊格線\n",
    "ax.spines[\"right\"].set_color(\"none\")\n",
    "\n",
    "# 消除頂端格線\n",
    "ax.spines[\"top\"].set_color(\"none\")\n",
    "\n",
    "ax.spines[\"left\"].set_position((\"data\",0))\n",
    "\n",
    "plt.show()"
   ]
  },
  {
   "cell_type": "markdown",
   "metadata": {},
   "source": [
    "### 加分題1. 樣本數減少的有效寫法 ( 效率UP，記憶體空間 DOWN )"
   ]
  },
  {
   "cell_type": "code",
   "execution_count": 1,
   "metadata": {},
   "outputs": [
    {
     "ename": "NameError",
     "evalue": "name 'np' is not defined",
     "output_type": "error",
     "traceback": [
      "\u001b[1;31m---------------------------------------------------------------------------\u001b[0m",
      "\u001b[1;31mNameError\u001b[0m                                 Traceback (most recent call last)",
      "Cell \u001b[1;32mIn [1], line 1\u001b[0m\n\u001b[1;32m----> 1\u001b[0m k\u001b[38;5;241m=\u001b[39m\u001b[43mnp\u001b[49m\u001b[38;5;241m.\u001b[39marange(\u001b[38;5;241m7\u001b[39m)\n\u001b[0;32m      2\u001b[0m n\u001b[38;5;241m=\u001b[39mnp\u001b[38;5;241m.\u001b[39mpower(\u001b[38;5;241m10\u001b[39m,k)\n\u001b[0;32m      5\u001b[0m \u001b[38;5;66;03m# Sn ==> 限制序列的空間在 7 格 ( 減少記憶體佔取容量)  ( 很重要 !! )\u001b[39;00m\n",
      "\u001b[1;31mNameError\u001b[0m: name 'np' is not defined"
     ]
    }
   ],
   "source": [
    "k=np.arange(7)\n",
    "n=np.power(10,k)\n",
    "\n",
    "\n",
    "# Sn ==> 限制序列的空間在 7 格 ( 減少記憶體佔取容量)  ( 很重要 !! )\n",
    "Sn=np.zeros(len(n))\n",
    "\n",
    "for i in k:\n",
    "    Sn[i]=(1/np.arange(1,n[i])).sum()\n",
    "    \n",
    "plt.plot(n,Sn)\n",
    "plt.scatter(n,Sn)\n",
    "\n",
    "plt.xscale('log')\n",
    "\n"
   ]
  },
  {
   "cell_type": "markdown",
   "metadata": {},
   "source": [
    "### Lesson 3: 基本的數學與簡單的統計量計算  ( 範例 )\n",
    "\n",
    "1. 標準差 / 變異數 計算"
   ]
  },
  {
   "cell_type": "code",
   "execution_count": 14,
   "metadata": {},
   "outputs": [
    {
     "name": "stdout",
     "output_type": "stream",
     "text": [
      "x mean =  5.8\n",
      "y mean =  4.4\n",
      "The sample mean of x is 5.8000\n",
      "The sample variation of x is 3.7\n",
      "The sample standard deviation of x is 1.923538\n"
     ]
    }
   ],
   "source": [
    "x = np.array([6,3,5,8,7])\n",
    "\n",
    "y= np.array([2,4,3,7,6])\n",
    "\n",
    "print(\"x mean = \",x.sum()/len(x))\n",
    "\n",
    "print(\"y mean = \",y.sum()/len(y))\n",
    " \n",
    "sum_x_formula = x[0] + x[1] + x[2] + x[3] + x[4]\n",
    "sum_x = x.sum() # numpy data's method\n",
    " \n",
    "n = len(x) # sample size\n",
    "x_bar_formula = sum_x / n \n",
    "x_bar = x.mean()\n",
    " \n",
    "var_x_formula_1 = ((x - x_bar)**2).sum() / (n-1) # element by element operation\n",
    "var_x_formula_2 = np.sum((x - x_bar)**2) / (n-1)\n",
    "\n",
    "# 計算變異數 .var()  ddof => N-1 (樣本變異數)\n",
    "var_x = x.var( ddof = 1) # ddof = 1: divided by N-1\n",
    " \n",
    " # np.sqrt() 開平方根\n",
    "std_x_formula = np.sqrt(var_x)\n",
    "\n",
    "#.std() 標準差\n",
    "std_x = x.std( ddof = 1)\n",
    " \n",
    "y_bar = y.mean()\n",
    "std_y = y.std( ddof = 1)\n",
    " \n",
    "print('The sample mean of x is {:.4f}'.format(x_bar))\n",
    "print('The sample variation of x is {}'.format(var_x))\n",
    "print('The sample standard deviation of x is %.6f' %std_x)\n",
    "\n",
    "\n"
   ]
  },
  {
   "cell_type": "markdown",
   "metadata": {},
   "source": [
    "#### 2. 計算z-score   (原始分數-平均值) / 標準差 \n",
    "\n",
    "- import numpy as np ( 把 numpy 叫到 Ram 內使用)  ( Ram = 隨存記憶體 )\n",
    "\n",
    "- from scipy.stats import zscore (從 scipy.stats 中)\n",
    "\n"
   ]
  },
  {
   "cell_type": "code",
   "execution_count": 16,
   "metadata": {},
   "outputs": [
    {
     "name": "stdout",
     "output_type": "stream",
     "text": [
      "[ 0.10397505 -1.45565069 -0.4159002   1.14372554  0.62385029]\n"
     ]
    }
   ],
   "source": [
    "# 把numpy 套件宣告 ( 把numpy 叫到 Ram )\n",
    "import numpy as np\n",
    "\n",
    "#\n",
    "from scipy.stats import zscore\n",
    " \n",
    "x = np.array([6, 3, 5, 8, 7])\n",
    "z = zscore(x, ddof = 1)\n",
    "\n",
    "print(z)"
   ]
  },
  {
   "cell_type": "markdown",
   "metadata": {},
   "source": [
    "### 3.散佈圖\n"
   ]
  },
  {
   "cell_type": "code",
   "execution_count": 17,
   "metadata": {},
   "outputs": [
    {
     "data": {
      "image/png": "[encoded data removed]",
      "text/plain": [
       "<Figure size 640x480 with 1 Axes>"
      ]
     },
     "metadata": {},
     "output_type": "display_data"
    }
   ],
   "source": [
    "import numpy as np\n",
    "import matplotlib.pyplot as plt \n",
    " \n",
    "x = np.array([6, 3, 5, 8, 7])\n",
    "y = np.array([2, 4, 3, 7, 6])\n",
    " \n",
    "size, color = 50, 'g'\n",
    "plt.scatter(x, y, s = size, c = color)\n",
    " \n",
    "# arrange axis range for better look\n",
    "plt.axis([0, 10, 0,10])\n",
    "plt.xlabel('x'), plt.ylabel('y')\n",
    "plt.show()\n"
   ]
  },
  {
   "cell_type": "markdown",
   "metadata": {},
   "source": [
    "### 範例 3. 在程式中載入外部 TXT 資料檔案，並繪製資料的散佈圖及計算相關係數 $r$\n",
    "\n",
    "- 使用np.loadtxt()指令讀取txt檔，comments=’%’ 用來避免讀取檔案中被 % 註解的文字"
   ]
  },
  {
   "cell_type": "code",
   "execution_count": 26,
   "metadata": {},
   "outputs": [
    {
     "data": {
      "image/png": "[encoded data removed]",
      "text/plain": [
       "<Figure size 640x480 with 1 Axes>"
      ]
     },
     "metadata": {},
     "output_type": "display_data"
    }
   ],
   "source": [
    "import numpy as np \n",
    "import matplotlib.pyplot as plt \n",
    "from scipy.stats import pearsonr\n",
    " \n",
    "data_dir = '/demo_data/'\n",
    "\n",
    "D = np.loadtxt(data_dir + 'data1.txt',comments=\"%\")\n",
    "x, y = D[:, 0], D[:, 1] \n",
    "r = pearsonr(x, y)[0] \n",
    " \n",
    "plt.scatter(x, y, s = 50, c = 'b', alpha = 0.5)\n",
    " \n",
    "plt.axis([x.min()-1, x.max()+1, y.min()-1, y.max()+1])\n",
    "plt.title('r = %.4f' %r)\n",
    "plt.xlabel('x'), plt.ylabel('y')\n",
    "plt.show()\n"
   ]
  },
  {
   "cell_type": "code",
   "execution_count": 28,
   "metadata": {},
   "outputs": [
    {
     "name": "stderr",
     "output_type": "stream",
     "text": [
      "No artists with labels found to put in legend.  Note that artists whose label start with an underscore are ignored when legend() is called with no argument.\n"
     ]
    },
    {
     "data": {
      "text/plain": [
       "<matplotlib.legend.Legend at 0x2a339957df0>"
      ]
     },
     "execution_count": 28,
     "metadata": {},
     "output_type": "execute_result"
    },
    {
     "data": {
      "image/png": "[encoded data removed]",
      "text/plain": [
       "<Figure size 640x480 with 1 Axes>"
      ]
     },
     "metadata": {},
     "output_type": "display_data"
    }
   ],
   "source": [
    "import pandas as pd\n",
    "import matplotlib.pyplot as plt\n",
    "import matplotlib.font_manager as mfm\n",
    "\n",
    "# Read EXCEL file\n",
    "# draw the line chart and prepare for the legend\n",
    "# set and rotate the xtick\n",
    "# ...\n",
    " \n",
    "# the following codes will change the font of text shown on the axes\n",
    "font_path = \"C:\\WINDOWS\\FONTS\\MSJHL.TTC\" # 微軟正黑體\n",
    "prop = mfm.FontProperties(fname = font_path)\n",
    "plt.legend(prop = prop)"
   ]
  },
  {
   "cell_type": "code",
   "execution_count": null,
   "metadata": {},
   "outputs": [],
   "source": [
    "import numpy as np \n",
    "import matplit"
   ]
  }
 ],
 "metadata": {
  "kernelspec": {
   "display_name": "Python 3.10.7 64-bit",
   "language": "python",
   "name": "python3"
  },
  "language_info": {
   "codemirror_mode": {
    "name": "ipython",
    "version": 3
   },
   "file_extension": ".py",
   "mimetype": "text/x-python",
   "name": "python",
   "nbconvert_exporter": "python",
   "pygments_lexer": "ipython3",
   "version": "3.10.7"
  },
  "orig_nbformat": 4,
  "vscode": {
   "interpreter": {
    "hash": "369f2c481f4da34e4445cda3fffd2e751bd1c4d706f27375911949ba6bb62e1c"
   }
  }
 },
 "nbformat": 4,
 "nbformat_minor": 2
}
